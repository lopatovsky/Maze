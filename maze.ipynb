{
 "cells": [
  {
   "cell_type": "markdown",
   "metadata": {},
   "source": [
    "Maze\n",
    "====\n",
    "MI-PYT Hw_7"
   ]
  },
  {
   "cell_type": "code",
   "execution_count": 3,
   "metadata": {
    "collapsed": true
   },
   "outputs": [],
   "source": [
    "! python -m pip -q install --upgrade pip\n",
    "! python -m pip -q install numpy matplotlib"
   ]
  },
  {
   "cell_type": "code",
   "execution_count": 6,
   "metadata": {
    "collapsed": false
   },
   "outputs": [
    {
     "data": {
      "image/png": "[encoded data removed]",
      "text/plain": [
       "<matplotlib.figure.Figure at 0x7f8d5a6662b0>"
      ]
     },
     "metadata": {},
     "output_type": "display_data"
    }
   ],
   "source": [
    "import numpy\n",
    "#from numpy.random import random_integers as rand\n",
    "import random\n",
    "import matplotlib.pyplot as pyplot\n",
    "\n",
    "def maze(width=81, height=51, complexity=.75, density=.75):\n",
    "    # Only odd shapes\n",
    "    shape = ((height // 2) * 2 + 1, (width // 2) * 2 + 1)\n",
    "    # Adjust complexity and density relative to maze size\n",
    "    complexity = int(complexity * (5 * (shape[0] + shape[1])))\n",
    "    density    = int(density * ((shape[0] // 2) * (shape[1] // 2)))\n",
    "    # Build actual maze\n",
    "    Z = numpy.zeros(shape)\n",
    "    # Fill borders\n",
    "    Z[0, :] = Z[-1, :] = -1\n",
    "    Z[:, 0] = Z[:, -1] = -1\n",
    "    \n",
    "    # Make aisles\n",
    "    for i in range(density):\n",
    "        x, y = random.randint(0, shape[1] // 2) * 2, random.randint(0, shape[0] // 2) * 2\n",
    "        Z[y, x] = -1\n",
    "        for j in range(complexity):\n",
    "            neighbours = []\n",
    "            if x > 1:             neighbours.append((y, x - 2))\n",
    "            if x < shape[1] - 2:  neighbours.append((y, x + 2))\n",
    "            if y > 1:             neighbours.append((y - 2, x))\n",
    "            if y < shape[0] - 2:  neighbours.append((y + 2, x))\n",
    "            if len(neighbours):\n",
    "                y_,x_ = neighbours[random.randint(0, len(neighbours) - 1)]\n",
    "                if Z[y_, x_] == 0:\n",
    "                    Z[y_, x_] = -1\n",
    "                    Z[y_ + (y - y_) // 2, x_ + (x - x_) // 2] = -1\n",
    "                    x, y = x_, y_\n",
    "    \n",
    "    # Make start point\n",
    "    #x, y = random.randint(0, shape[1] // 2) * 2, random.randint(0, shape[0] // 2) * 2\n",
    "    x, y = random.choice( numpy.column_stack(numpy.where(Z == 0)) ) \n",
    "    Z[x,y] = 1\n",
    "    \n",
    "    return Z\n",
    "\n",
    "def print_maze( Z ):\n",
    "    pyplot.figure(figsize=(10, 5))\n",
    "    pyplot.imshow( -Z, cmap=pyplot.cm.binary, interpolation='nearest')\n",
    "    pyplot.xticks([]), pyplot.yticks([])\n",
    "    pyplot.show()\n",
    "\n",
    "Z = maze(10,10,1,1)    \n",
    "print_maze( Z )"
   ]
  },
  {
   "cell_type": "code",
   "execution_count": 76,
   "metadata": {
    "collapsed": false
   },
   "outputs": [],
   "source": [
    "import queue \n",
    "\n",
    "class Solved_maze:\n",
    "    \n",
    "    def __init__(self, array):\n",
    "        \n",
    "        sx, sy = array.shape\n",
    "        #create frame\n",
    "        self.__a = numpy.full( (sx+2, sy+2), -1, dtype=int )\n",
    "        \n",
    "        #copy data\n",
    "        self.__a[1:-1,1:-1] = array \n",
    "        \n",
    "        start_point = numpy.where(self.__a == 1)\n",
    "        \n",
    "        self.distances  = numpy.full( self.__a.shape, -1, dtype=int )\n",
    "        self.directions = numpy.full( self.__a.shape, b'#', dtype=('a',1))\n",
    "        \n",
    "        self.__bfs( start_point )\n",
    "        \n",
    "        #destroy frame\n",
    "        self.distances = self.distances[1:-1,1:-1]\n",
    "        self.directions = self.directions[1:-1,1:-1]\n",
    "        \n",
    "        self.is_reachable =  len( self.__a[ self.__a >= 0 ] ) == 0\n",
    "    \n",
    "    \n",
    "    def __update_queue( self, q, point , ch, time ):\n",
    "        if self.__a[point] >= 0:\n",
    "            q.put( ( time , point ) )\n",
    "            self.directions[ point ] = ch\n",
    "            self.distances[ point ] = time\n",
    "            self.__a[ point ] = -1 #visited\n",
    "            \n",
    "    def __bfs( self, point ):\n",
    " \n",
    "        q = queue.PriorityQueue()\n",
    "        self.__update_queue(q, point, b'X', 0 )\n",
    "                \n",
    "        while not q.empty():\n",
    "            time , ( x , y ) = q.get()\n",
    "            self.__update_queue( q, (x-1, y), b'v', time + 1 )\n",
    "            self.__update_queue( q, (x+1, y), b'^', time + 1 )\n",
    "            self.__update_queue( q, (x, y-1), b'>', time + 1 )\n",
    "            self.__update_queue( q, (x, y+1), b'<', time + 1 )\n",
    "            \n",
    "    def __move_step( self, ch , x, y ):\n",
    "        \n",
    "        if ch == b'v': return (x+1, y)\n",
    "        if ch == b'^': return (x-1, y)\n",
    "        if ch == b'>': return (x, y+1)\n",
    "        if ch == b'<': return (x, y-1)\n",
    "        raise Exception(\"Wrong move\")\n",
    "    \n",
    "    def path(self, *point ):\n",
    "        \n",
    "        print( type(point) )\n",
    "        \n",
    "        if self.directions[point] == b'#':  raise Exception(\"Unreachable point\")\n",
    "        p = []\n",
    "        \n",
    "        while True:\n",
    "            \n",
    "            p.append( point )\n",
    "            ch = self.directions[point]\n",
    "            if ch == b'X': break;\n",
    "            point = self.__move_step( ch, *point )\n",
    "        \n",
    "        return p\n",
    "                        \n",
    "def analyze(array):\n",
    "    return Solved_maze( array )\n",
    "    \n",
    "\n",
    "    "
   ]
  },
  {
   "cell_type": "code",
   "execution_count": 77,
   "metadata": {
    "collapsed": false
   },
   "outputs": [
    {
     "data": {
      "image/png": "[encoded data removed]",
      "text/plain": [
       "<matplotlib.figure.Figure at 0x7f8d4ad9be10>"
      ]
     },
     "metadata": {},
     "output_type": "display_data"
    },
    {
     "name": "stdout",
     "output_type": "stream",
     "text": [
      "True\n"
     ]
    },
    {
     "data": {
      "image/png": "[encoded data removed]",
      "text/plain": [
       "<matplotlib.figure.Figure at 0x7f8d4ae69048>"
      ]
     },
     "metadata": {},
     "output_type": "display_data"
    },
    {
     "name": "stdout",
     "output_type": "stream",
     "text": [
      "[[-1 -1 -1 -1 -1 -1 -1 -1 -1 -1 -1]\n",
      " [-1 27 26 25 24 23 22 21 22 23 -1]\n",
      " [-1 28 -1 -1 -1 -1 -1 20 -1 24 -1]\n",
      " [-1 29 -1  5  6  7 -1 19 -1 25 -1]\n",
      " [-1 -1 -1  4 -1 -1 -1 18 -1 -1 -1]\n",
      " [-1  1  2  3 -1 19 18 17 16 15 -1]\n",
      " [-1  0 -1  4 -1 -1 -1 -1 -1 14 -1]\n",
      " [-1  1 -1  5  6  7 -1 11 -1 13 -1]\n",
      " [-1  2 -1 -1 -1 -1 -1 10 -1 12 -1]\n",
      " [-1  3  4  5  6  7  8  9 10 11 -1]\n",
      " [-1 -1 -1 -1 -1 -1 -1 -1 -1 -1 -1]]\n",
      "[[b'#' b'#' b'#' b'#' b'#' b'#' b'#' b'#' b'#' b'#' b'#']\n",
      " [b'#' b'>' b'>' b'>' b'>' b'>' b'>' b'v' b'<' b'<' b'#']\n",
      " [b'#' b'^' b'#' b'#' b'#' b'#' b'#' b'v' b'#' b'^' b'#']\n",
      " [b'#' b'^' b'#' b'v' b'<' b'<' b'#' b'v' b'#' b'^' b'#']\n",
      " [b'#' b'#' b'#' b'v' b'#' b'#' b'#' b'v' b'#' b'#' b'#']\n",
      " [b'#' b'v' b'<' b'<' b'#' b'>' b'>' b'>' b'>' b'v' b'#']\n",
      " [b'#' b'X' b'#' b'^' b'#' b'#' b'#' b'#' b'#' b'v' b'#']\n",
      " [b'#' b'^' b'#' b'^' b'<' b'<' b'#' b'v' b'#' b'v' b'#']\n",
      " [b'#' b'^' b'#' b'#' b'#' b'#' b'#' b'v' b'#' b'v' b'#']\n",
      " [b'#' b'^' b'<' b'<' b'<' b'<' b'<' b'<' b'<' b'<' b'#']\n",
      " [b'#' b'#' b'#' b'#' b'#' b'#' b'#' b'#' b'#' b'#' b'#']]\n"
     ]
    }
   ],
   "source": [
    "px, py = numpy.where(Z == 1)\n",
    "#Z[:,25] = -1\n",
    "\n",
    "print_maze(Z)\n",
    "\n",
    "sol = analyze( Z )\n",
    "print(sol.is_reachable)\n",
    "print_maze( sol.distances )\n",
    "print(sol.distances)\n",
    "print(sol.directions)"
   ]
  },
  {
   "cell_type": "code",
   "execution_count": 80,
   "metadata": {
    "collapsed": false
   },
   "outputs": [
    {
     "name": "stdout",
     "output_type": "stream",
     "text": [
      "<class 'tuple'>\n"
     ]
    },
    {
     "data": {
      "text/plain": [
       "[(6, 1)]"
      ]
     },
     "execution_count": 80,
     "metadata": {},
     "output_type": "execute_result"
    }
   ],
   "source": [
    "sol.path(6,1)"
   ]
  },
  {
   "cell_type": "code",
   "execution_count": 51,
   "metadata": {
    "collapsed": false
   },
   "outputs": [
    {
     "data": {
      "text/plain": [
       "(2, 5)"
      ]
     },
     "execution_count": 51,
     "metadata": {},
     "output_type": "execute_result"
    }
   ],
   "source": [
    "a\n"
   ]
  },
  {
   "cell_type": "code",
   "execution_count": 53,
   "metadata": {
    "collapsed": false
   },
   "outputs": [
    {
     "data": {
      "text/plain": [
       "(2, 5, 1, 1)"
      ]
     },
     "execution_count": 53,
     "metadata": {},
     "output_type": "execute_result"
    }
   ],
   "source": [
    "a + (1,1)"
   ]
  },
  {
   "cell_type": "code",
   "execution_count": null,
   "metadata": {
    "collapsed": true
   },
   "outputs": [],
   "source": []
  }
 ],
 "metadata": {
  "kernelspec": {
   "display_name": "Python 3",
   "language": "python",
   "name": "python3"
  },
  "language_info": {
   "codemirror_mode": {
    "name": "ipython",
    "version": 3
   },
   "file_extension": ".py",
   "mimetype": "text/x-python",
   "name": "python",
   "nbconvert_exporter": "python",
   "pygments_lexer": "ipython3",
   "version": "3.5.2"
  }
 },
 "nbformat": 4,
 "nbformat_minor": 1
}
